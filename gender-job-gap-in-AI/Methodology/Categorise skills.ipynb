{
 "cells": [
  {
   "cell_type": "markdown",
   "metadata": {},
   "source": [
    "## Skills categorisation\n",
    "\n",
    "How to classify data science skills?\n",
    "\n",
    "Linkedin classification:\n",
    "1. Industry knowledge\n",
    "2. Interpersonal skills\n",
    "3. Languages\n",
    "4. Tools & Technologies\n",
    "5. Other skills\n",
    "\n",
    "Proposed categories: https://hdsr.mitpress.mit.edu/pub/6wx0qmkl/release/3\n",
    "1. Industry knowledge\n",
    "2. Interpersonal skills\n",
    "3. Languages\n",
    "4. Science and Math\n",
    "    1. **Scientific Method**: Basics of the scientific method, research methods, hypothesis formulation and problem identification.\n",
    "    2. **Mathematics**: Basic math, calculus and linear algebra\n",
    "    3. **Computer Science**: CS essentials such as data structures and algorithms, DB, OS, parallel computing, software engineering\n",
    "    4. **Statistics**: Probability basics, descriptive, inferential, and Bayesian statistics, stochastic processes and time series, causality, sampling\n",
    "    5. **Operations Research & Optimization**: linear programming, nonlinear optimization\n",
    "    6. **Data Preparation and Exploration**: Practical knowledge related to ‘data analysis,’ feature extraction and transformation, data cleaning, data preparation, data exploration\n",
    "    7. **Machine Learning**: Unsupervised and supervised learning models and algorithms, reinforcement and deep learning, text mining and NLP\n",
    "5. Programming and Technology\n",
    "    1. **General Purpose Computing**: general purpose programming languages, shell basics, version control, virtualization and containerization, cloud platforms\n",
    "    2. **Scientific Computing**: Statistical, numerical programming languages and libraries, ML libraries, development environments, data visualization tools\n",
    "    3. **Database & Business Intelligence**: relational DBs and SQL, data warehousing, querying and presentation\n",
    "    4. **Big Data**: Big data infrastructure, processing and execution environments, big data access and integration tools"
   ]
  },
  {
   "cell_type": "code",
   "execution_count": 2,
   "metadata": {},
   "outputs": [],
   "source": [
    "import pandas as pd\n",
    "from collections import defaultdict\n",
    "import json\n",
    "import pickle"
   ]
  },
  {
   "cell_type": "code",
   "execution_count": 15,
   "metadata": {},
   "outputs": [],
   "source": [
    "with open('data/raw/scraped_profiles.json') as json_data:\n",
    "    profiles = json_data.readlines()[:]"
   ]
  },
  {
   "cell_type": "code",
   "execution_count": 16,
   "metadata": {},
   "outputs": [],
   "source": [
    "## Get the list of skills categorised in each group by LinkedIn\n",
    "cat_to_skill = defaultdict(set)\n",
    "for idx, profile in enumerate(profiles):\n",
    "    p = json.loads(profile)\n",
    "    if 'top_skills' not in p['skills']: \n",
    "        continue\n",
    "    if 'Industry Knowledge' in p['skills']:\n",
    "        for sk in p['skills']['Industry Knowledge']:\n",
    "            cat_to_skill['industry_knowledge'].add(sk[0].lower().strip())\n",
    "    if 'Tools & Technologies' in p['skills']:\n",
    "        for sk in p['skills']['Tools & Technologies']:\n",
    "            cat_to_skill['tools_tech'].add(sk[0].lower().strip())\n",
    "    if 'Interpersonal Skills' in p['skills']:\n",
    "        for sk in p['skills']['Interpersonal Skills']:\n",
    "            cat_to_skill['interp_skill'].add(sk[0].lower().strip())\n",
    "    if 'Languages' in p['skills']:\n",
    "        for sk in p['skills']['Languages']:\n",
    "            cat_to_skill['languages'].add(sk[0].lower().strip())\n",
    "    if 'Other Skills ' in p['skills']:\n",
    "        for sk in p['skills']['Other Skills ']:\n",
    "            cat_to_skill['other'].add(sk[0].lower().strip())\n",
    "# pickle.dump(cat_to_skill, open(\"data/processed/cat_to_skill.p\", \"wb\" ) )            "
   ]
  },
  {
   "cell_type": "code",
   "execution_count": 21,
   "metadata": {},
   "outputs": [
    {
     "name": "stdout",
     "output_type": "stream",
     "text": [
      "industry_knowledge 2607\n",
      "tools_tech 933\n",
      "interp_skill 276\n",
      "other 12951\n"
     ]
    }
   ],
   "source": [
    "for key, values in cat_to_skill.items():\n",
    "    print(key, len(values))"
   ]
  },
  {
   "cell_type": "code",
   "execution_count": 17,
   "metadata": {},
   "outputs": [],
   "source": [
    "skills_df = pd.concat([pd.DataFrame({'skill':list(cat_to_skill['industry_knowledge']),'cat':'industry_knowledge'}),\n",
    "                       pd.DataFrame({'skill':list(cat_to_skill['tools_tech']),'cat':'tools_tech'}),\n",
    "                       pd.DataFrame({'skill':list(cat_to_skill['interp_skill']),'cat':'interp_skill'}),\n",
    "                       pd.DataFrame({'skill':list(cat_to_skill['languages']),'cat':'languages'}),\n",
    "                       pd.DataFrame({'skill':list(cat_to_skill['other']),'cat':'other'})])\n",
    "                       "
   ]
  },
  {
   "cell_type": "code",
   "execution_count": 111,
   "metadata": {},
   "outputs": [],
   "source": [
    "# skills_df.to_csv('data/processed/linkedin_skills.csv',index=False)"
   ]
  },
  {
   "cell_type": "code",
   "execution_count": 3,
   "metadata": {},
   "outputs": [],
   "source": [
    "# Manual classification of skills based on Fayyad and Hamutcus' categories\n",
    "cat_skills = pd.read_csv('data/processed/linkedin_skills_recat.csv')"
   ]
  },
  {
   "cell_type": "code",
   "execution_count": 43,
   "metadata": {},
   "outputs": [],
   "source": [
    "skill_to_cat = defaultdict(str)\n",
    "for cat, skills in cat_to_skill.items():\n",
    "    if cat == 'other':\n",
    "        continue\n",
    "    for sk in skills:\n",
    "        skill_to_cat[sk] = cat\n",
    "\n",
    "# pickle.dump(skill_to_cat_lin, open(\"data/processed/skill_to_cat_lin.p\", \"wb\" ) )"
   ]
  },
  {
   "cell_type": "code",
   "execution_count": 82,
   "metadata": {},
   "outputs": [],
   "source": [
    "cat_skills['recat'].fillna(cat_skills['cat'], inplace=True)"
   ]
  },
  {
   "cell_type": "code",
   "execution_count": 58,
   "metadata": {},
   "outputs": [],
   "source": [
    "## Create long dataframe with profile id and skill\n",
    "ids = []\n",
    "skills_list = []\n",
    "for prof in profiles:\n",
    "    p = json.loads(prof)\n",
    "    try:\n",
    "        for cat, skills in p['skills'].items():\n",
    "            skills_list += [skill[0].lower().strip() for skill in skills]\n",
    "            ids += [p['id']]*len(skills)\n",
    "    except:\n",
    "        pass"
   ]
  },
  {
   "cell_type": "code",
   "execution_count": 84,
   "metadata": {},
   "outputs": [
    {
     "data": {
      "text/plain": [
       "526177"
      ]
     },
     "execution_count": 84,
     "metadata": {},
     "output_type": "execute_result"
    }
   ],
   "source": [
    "skills_long = pd.DataFrame({\"id\":ids, \"skill\":skills_list}); len(skills_long)"
   ]
  },
  {
   "cell_type": "code",
   "execution_count": 85,
   "metadata": {},
   "outputs": [
    {
     "data": {
      "text/plain": [
       "526177"
      ]
     },
     "execution_count": 85,
     "metadata": {},
     "output_type": "execute_result"
    }
   ],
   "source": [
    "skills_long = skills_long.merge(cat_skills, on='skill', how='left'); len(skills_long)"
   ]
  },
  {
   "cell_type": "code",
   "execution_count": 86,
   "metadata": {},
   "outputs": [
    {
     "data": {
      "text/plain": [
       "industry_knowledge                      296984\n",
       "other                                    57116\n",
       "interp_skill                             43966\n",
       "Computer Science                         26724\n",
       "tools_tech                               24739\n",
       "General Purpose Computing                17380\n",
       "Database                                 13338\n",
       "Data Preparation and Exploration          8816\n",
       "interp_skills                             8087\n",
       "ML                                        4462\n",
       "Scientific Computing                      4135\n",
       "Big Data                                  3034\n",
       "Statistics                                1914\n",
       "languages                                 1276\n",
       "review                                     138\n",
       "Math                                       124\n",
       "Review                                      24\n",
       "Operations Research and Optimization        15\n",
       "Name: recat, dtype: int64"
      ]
     },
     "execution_count": 86,
     "metadata": {},
     "output_type": "execute_result"
    }
   ],
   "source": [
    "skills_long.recat.value_counts()"
   ]
  },
  {
   "cell_type": "code",
   "execution_count": 43,
   "metadata": {},
   "outputs": [],
   "source": [
    "skills_long['recat'] = skills_long['recat'].fillna('other')"
   ]
  },
  {
   "cell_type": "code",
   "execution_count": 46,
   "metadata": {},
   "outputs": [],
   "source": [
    "## Group skills\n",
    "skills_long.loc[skills_long.recat == 'Statistics','recat'] = 'Stats and Math'\n",
    "skills_long.loc[skills_long.recat == 'Math','recat'] = 'Stats and Math'\n",
    "skills_long.loc[skills_long.recat == 'Review','recat'] = 'other'\n",
    "skills_long.loc[skills_long.recat == 'Operations Research and Optimization','recat'] = 'Stats and Math'\n",
    "skills_long.loc[skills_long.recat == 'interp_skill','recat'] = 'interp_skills'"
   ]
  },
  {
   "cell_type": "code",
   "execution_count": 47,
   "metadata": {},
   "outputs": [],
   "source": [
    "skills_long = skills_long[skills_long.recat != 'review']"
   ]
  },
  {
   "cell_type": "code",
   "execution_count": 49,
   "metadata": {},
   "outputs": [
    {
     "data": {
      "text/plain": [
       "industry_knowledge                  296984\n",
       "other                                71045\n",
       "interp_skills                        52053\n",
       "Computer Science                     26724\n",
       "tools_tech                           24739\n",
       "General Purpose Computing            17380\n",
       "Database                             13338\n",
       "Data Preparation and Exploration      8816\n",
       "ML                                    4462\n",
       "Scientific Computing                  4135\n",
       "Big Data                              3034\n",
       "Stats and Math                        2053\n",
       "languages                             1276\n",
       "Name: recat, dtype: int64"
      ]
     },
     "execution_count": 49,
     "metadata": {},
     "output_type": "execute_result"
    }
   ],
   "source": [
    "skills_long.recat.value_counts()"
   ]
  },
  {
   "cell_type": "code",
   "execution_count": 48,
   "metadata": {},
   "outputs": [],
   "source": [
    "skills_long.to_csv('data/processed/skills_long_final.csv', index=False)"
   ]
  }
 ],
 "metadata": {
  "kernelspec": {
   "display_name": "Python 3",
   "language": "python",
   "name": "python3"
  },
  "language_info": {
   "codemirror_mode": {
    "name": "ipython",
    "version": 3
   },
   "file_extension": ".py",
   "mimetype": "text/x-python",
   "name": "python",
   "nbconvert_exporter": "python",
   "pygments_lexer": "ipython3",
   "version": "3.8.3"
  }
 },
 "nbformat": 4,
 "nbformat_minor": 4
}
