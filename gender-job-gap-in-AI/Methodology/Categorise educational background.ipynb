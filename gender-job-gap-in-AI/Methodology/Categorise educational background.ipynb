{
 "cells": [
  {
   "cell_type": "code",
   "execution_count": 2,
   "metadata": {},
   "outputs": [],
   "source": [
    "from tidy_data import get_long_education\n",
    "import pandas as pd\n",
    "pd.set_option('display.max_rows', 500)\n",
    "import numpy as np\n",
    "\n",
    "import json\n",
    "import re\n",
    "import string\n",
    "\n",
    "import nltk\n",
    "from nltk.tokenize import word_tokenize\n",
    "from nltk.corpus import stopwords"
   ]
  },
  {
   "cell_type": "code",
   "execution_count": 3,
   "metadata": {},
   "outputs": [],
   "source": [
    "with open('data/raw/scraped_profiles.json') as json_data:\n",
    "    profiles = json_data.readlines()"
   ]
  },
  {
   "cell_type": "code",
   "execution_count": 4,
   "metadata": {},
   "outputs": [
    {
     "name": "stdout",
     "output_type": "stream",
     "text": [
      "40735\n"
     ]
    },
    {
     "data": {
      "text/plain": [
       "18531"
      ]
     },
     "execution_count": 4,
     "metadata": {},
     "output_type": "execute_result"
    }
   ],
   "source": [
    "educ = get_long_education(profiles); print(len(educ))\n",
    "educ.loc[educ.discipline == '','discipline'] = educ.loc[educ.discipline == '','degree']\n",
    "educ.id.nunique()"
   ]
  },
  {
   "cell_type": "markdown",
   "metadata": {},
   "source": [
    "## Degree\n",
    "1. Take degree abbreviations\n",
    "2. Find keywords in degree/discipline fields"
   ]
  },
  {
   "cell_type": "markdown",
   "metadata": {},
   "source": [
    "**Get degree abbreviations**"
   ]
  },
  {
   "cell_type": "code",
   "execution_count": 5,
   "metadata": {},
   "outputs": [],
   "source": [
    "### List of degrees abbreviations from https://en.wikipedia.org/wiki/British_degree_abbreviations\n",
    "ab = pd.read_csv('data/degrees_ abbreviations.csv', sep=';')\n",
    "ab['ab'] = ab['ab'].apply(lambda x: \"\\\\b\" + x.lower().strip() + \"\\\\b\")"
   ]
  },
  {
   "cell_type": "code",
   "execution_count": 6,
   "metadata": {},
   "outputs": [],
   "source": [
    "bach_ab = \"|\".join(ab[ab.degree=='Bachelor'].ab.values) + \"|bachelor|\\\\bbsc\\\\b|bachelors|\\\\bba\\\\b|\\\\bbba\\\\b|\\\\bbss\\\\b|\\\\bbac\\\\b|\\\\bb sc\\\\b|\\\n",
    "                  \\\\bbtech\\\\b|\\\\bbasc\\\\b|\\\\bbcomm\\\\b|\\\\bbcs\\\\b|\\\\bbmath\\\\b|\\\\bbe\\\\b|\\\\bbtech\\\\b|undergraduate|licencia|\\\\bbs\\\\b\"\n",
    "mas_ab = \"|\".join(ab[ab.degree=='Master'].ab.values) + \"|master|\\\\bmsc\\\\b|masters|\\\\bmss\\\\b|\\\\bmphil\\\\b|magister|\\\\bmasc\\\\b|\\\\bmtech\\\\b|\\\\bma\\\\b|\\\\bms\\\\b\"\n",
    "phd_ab = \"|\".join(ab[ab.degree=='PHD'].ab.values) + \"|\\\\bph\\\\b|doctorate|doctor|\\\\bdrs\\\\b|\\\\bdr\\\\b\""
   ]
  },
  {
   "cell_type": "code",
   "execution_count": 7,
   "metadata": {},
   "outputs": [],
   "source": [
    "clean_titles = [\"high school\", 'bachelor', 'master', 'phd', 'diploma','certificate',\"postdoc\"]\n",
    "clean_titles = \"|\".join(clean_titles)"
   ]
  },
  {
   "cell_type": "markdown",
   "metadata": {},
   "source": [
    "**Preprocess and find abbreviations keywords**"
   ]
  },
  {
   "cell_type": "code",
   "execution_count": 8,
   "metadata": {},
   "outputs": [],
   "source": [
    "def process_degree(degree):\n",
    "    text = degree.lower().strip()\n",
    "    try:\n",
    "        text2 = list(set(re.findall(clean_titles, text)))\n",
    "        if len(text2) > 0:\n",
    "            text = \" \".join(text2)\n",
    "    except:\n",
    "        pass\n",
    "    \n",
    "    if text.startswith('b.') or text.startswith('b-') or text.startswith('b '):\n",
    "        return 'bachelor'\n",
    "    elif text.startswith('m.') or text.startswith('m-') or text.startswith('m '):\n",
    "        return 'master'\n",
    "    elif text.startswith('d.') or text.startswith('d-'):\n",
    "        return 'phd'\n",
    "    \n",
    "    remove_punct = str.maketrans(string.punctuation, ' '*len(string.punctuation))\n",
    "    text = text.translate(remove_punct)\n",
    "    \n",
    "    remove_digits = str.maketrans(\"\", \"\", string.digits)\n",
    "    text = text.translate(remove_digits)\n",
    "    \n",
    "    if text.startswith('bs') or text.startswith('b '):\n",
    "        return 'bachelor'\n",
    "    elif text.startswith('ms') or text.startswith('m '):\n",
    "        return 'master'\n",
    "    \n",
    "    text = text.replace(' ml ', 'machine learning').replace(' ai ', 'artificial intelligence')\n",
    "\n",
    "    text = re.sub(phd_ab,\"phd\",text)\n",
    "    text = re.sub(mas_ab,\"master\",text)\n",
    "    text = re.sub(bach_ab,\"bachelor\",text)    \n",
    "    text = re.sub(\"diplom|\\\\bdipl\\\\b\",\"diploma\",text)    \n",
    "    text = re.sub(\"\\\\bcertificat\\\\b|certification\",\"certificate\",text)\n",
    "    text = re.sub('secondary school|higher secondary|highschool|high school',\"high school\",text)\n",
    "\n",
    "    \n",
    "    if 'phd' in text:\n",
    "        return 'phd'\n",
    "    elif 'master' in text:\n",
    "        return 'master'\n",
    "    elif 'bachelor' in text:\n",
    "        return 'bachelor'\n",
    "    else:\n",
    "        try:\n",
    "            text2 = list(set(re.findall(titles, text)))\n",
    "            if len(text2) > 0:\n",
    "                text = text2[0]\n",
    "            else:\n",
    "                text3 = list(set(re.findall(\"honour[s]?|laude|\\\\bdegree\\\\b\", text)))\n",
    "                if len(text3) > 0:\n",
    "                    text = \"honours\"\n",
    "        except:\n",
    "            pass\n",
    "    return text"
   ]
  },
  {
   "cell_type": "code",
   "execution_count": 9,
   "metadata": {},
   "outputs": [],
   "source": [
    "### Sometimes people confuse the 'degree' and 'discipline' fields on LinkedIn.\n",
    "### Clean both, and then unify them\n",
    "educ['degree2'] = educ.degree.apply(lambda x: process_degree(x))\n",
    "educ['degree3'] = educ.discipline.apply(lambda x: process_degree(x))"
   ]
  },
  {
   "cell_type": "code",
   "execution_count": 10,
   "metadata": {},
   "outputs": [],
   "source": [
    "def final_class(degree2, degree3, duration):\n",
    "    degrees = []\n",
    "    for i in range(len(degree2)):\n",
    "        raw_degrees = degree2[i].split() + degree3[i].split()\n",
    "        if 'postdoc' in raw_degrees:\n",
    "            text = 'postdoc'\n",
    "        elif 'phd' in raw_degrees:\n",
    "            text = 'phd'\n",
    "        elif 'master' in raw_degrees:\n",
    "            text = 'master'\n",
    "        elif 'bachelor' in raw_degrees:\n",
    "            text = 'bachelor'\n",
    "        elif 'high school' in raw_degrees:\n",
    "            text = 'high school'\n",
    "        else:\n",
    "            if duration[i] >= 3:\n",
    "                text = 'bachelor'\n",
    "            else:\n",
    "                text = 'certificate'\n",
    "\n",
    "        degrees.append(text)\n",
    "                    \n",
    "    return degrees"
   ]
  },
  {
   "cell_type": "code",
   "execution_count": 11,
   "metadata": {},
   "outputs": [],
   "source": [
    "educ['final_degree'] = final_class(educ.degree2.values,educ.degree3.values, educ.duration.values)"
   ]
  },
  {
   "cell_type": "code",
   "execution_count": 12,
   "metadata": {},
   "outputs": [
    {
     "data": {
      "text/plain": [
       "bachelor       16310\n",
       "master         11636\n",
       "certificate    10361\n",
       "phd             2397\n",
       "postdoc           31\n",
       "Name: final_degree, dtype: int64"
      ]
     },
     "execution_count": 12,
     "metadata": {},
     "output_type": "execute_result"
    }
   ],
   "source": [
    "educ.final_degree.value_counts()"
   ]
  },
  {
   "cell_type": "code",
   "execution_count": 13,
   "metadata": {},
   "outputs": [],
   "source": [
    "#educ.to_csv('data/processed/educ_df_v2.csv',index=False)"
   ]
  },
  {
   "cell_type": "markdown",
   "metadata": {},
   "source": [
    "# Matching to CAH categories\n",
    "1. Remove degree abbreviations from discipline field and pre-process\n",
    "2. Match to CAH categories"
   ]
  },
  {
   "cell_type": "markdown",
   "metadata": {},
   "source": [
    "**Preprocess discipline fields and remove degree keywords**"
   ]
  },
  {
   "cell_type": "code",
   "execution_count": 14,
   "metadata": {},
   "outputs": [],
   "source": [
    "ab_titles = ab.ab.values\n",
    "ab_titles = \"|\".join(ab_titles)\n",
    "\n",
    "def process_discipline(discipline):\n",
    "    text = discipline.lower()\n",
    "    # Taken from stackoverflow. replace punctuation with spaces\n",
    "    text = (text.translate(str.maketrans(string.punctuation, ' ' * len(string.punctuation))).\n",
    "            replace(' '*4, ' ').\n",
    "            replace(' '*3, ' ').\n",
    "            replace(' '*2, ' ').strip())\n",
    "    \n",
    "    remove_digits = str.maketrans(\"\", \"\", string.digits)\n",
    "    text = text.translate(remove_digits)\n",
    "\n",
    "    # remove degree titles\n",
    "    text = re.sub(ab_titles,\"\",text)\n",
    "    stop_words = stopwords.words('english') + ['general','executive','diploma','applied','degree',\\\n",
    "                                              'distinction','masters','master','bachelors','bachelor']\n",
    "    stop_words.remove('it')\n",
    "    \n",
    "    tokens = word_tokenize(text)\n",
    "    tokens_stop = [y for y in tokens if y not in stop_words]\n",
    "    tokens.sort()\n",
    "    text = \" \".join(tokens_stop).strip()\n",
    "\n",
    "    return text"
   ]
  },
  {
   "cell_type": "code",
   "execution_count": 15,
   "metadata": {},
   "outputs": [],
   "source": [
    "educ['disc2'] = educ.discipline.apply(lambda x: process_discipline(x));\n",
    "educ.loc[educ.disc2 == '','disc2'] = educ.loc[educ.disc2 == '','degree2']"
   ]
  },
  {
   "cell_type": "code",
   "execution_count": null,
   "metadata": {},
   "outputs": [],
   "source": [
    "disc_counts = educ.disc2.value_counts().reset_index(); print(len(disc_counts))\n",
    "disc_counts.columns = ['disc2','counts']"
   ]
  },
  {
   "cell_type": "markdown",
   "metadata": {},
   "source": [
    "**Create word vectors with CAH categories**"
   ]
  },
  {
   "cell_type": "code",
   "execution_count": 16,
   "metadata": {},
   "outputs": [],
   "source": [
    "cah = pd.read_csv('data/CAH_categories.csv', delimiter=\";\")\n",
    "cah['CAH3'] = cah['CAH3'].apply(lambda x: re.sub(\"[\\(\\[].*?[\\)\\]]\", \"\",x).strip()) ### remove text in ()"
   ]
  },
  {
   "cell_type": "code",
   "execution_count": 17,
   "metadata": {},
   "outputs": [],
   "source": [
    "# Add missing categories\n",
    "cah = cah.append(pd.DataFrame({\n",
    "    \"CAH1\": ['(CAH17) business and management'],\n",
    "    \"CAH2\": ['(CAH17-01) business and management'],\n",
    "    \"CAH3\": ['mba']\n",
    "}))"
   ]
  },
  {
   "cell_type": "code",
   "execution_count": 21,
   "metadata": {},
   "outputs": [],
   "source": [
    "nlp = spacy.load(\"en_core_web_lg\")"
   ]
  },
  {
   "cell_type": "code",
   "execution_count": 22,
   "metadata": {},
   "outputs": [
    {
     "name": "stdout",
     "output_type": "stream",
     "text": [
      "creating base vectors... done!\n"
     ]
    }
   ],
   "source": [
    "# Create word vectors with CAH categories to use as reference\n",
    "all_base_categories = list(cah.CAH3.values)\n",
    "print('creating base vectors... ', end = '')\n",
    "base_vectors = [nlp(x) for x in all_base_categories]\n",
    "print('done!')"
   ]
  },
  {
   "cell_type": "markdown",
   "metadata": {},
   "source": [
    "**Create word vectors with clean disciplines from LinkedIn**"
   ]
  },
  {
   "cell_type": "code",
   "execution_count": 23,
   "metadata": {},
   "outputs": [],
   "source": [
    "# Create word vectors with clean disciplines to be matched\n",
    "vector_dict = {}\n",
    "for disc2 in educ[~educ.disc2.isna()].disc2.unique():\n",
    "    vector_dict[disc2] = nlp(disc2)\n",
    "    \n",
    "raw_title = []\n",
    "tokens = []\n",
    "for key,value in vector_dict.items():\n",
    "    raw_title.append(key)\n",
    "    tokens.append(value)\n",
    "    \n",
    "raw_disc_df = pd.DataFrame({'raw':raw_title, 'token':tokens})"
   ]
  },
  {
   "cell_type": "markdown",
   "metadata": {},
   "source": [
    "**Match disciplines to CAH**"
   ]
  },
  {
   "cell_type": "code",
   "execution_count": 26,
   "metadata": {},
   "outputs": [],
   "source": [
    "def get_most_similar_title(raw_occupations, base_vectors, base_occupations):\n",
    "    most_similar_title = []\n",
    "    similarity_score = []\n",
    "    count = 0\n",
    "    for raw_vector in raw_occupations.token.values: \n",
    "        this_score = []\n",
    "        for base_vector in base_vectors:\n",
    "            this_score.append(raw_vector.similarity(base_vector))\n",
    "        similarity_score.append(max(this_score))\n",
    "        most_similar_title.append(base_occupations[this_score.index(max(this_score))])\n",
    "        count += 1\n",
    "    return pd.DataFrame({\"disc2\": raw_disc_df.raw.values, \"CAH3\": most_similar_title, \"score\": similarity_score})"
   ]
  },
  {
   "cell_type": "code",
   "execution_count": 27,
   "metadata": {},
   "outputs": [
    {
     "name": "stderr",
     "output_type": "stream",
     "text": [
      "<ipython-input-26-9bc1b7ceed59>:8: UserWarning: [W008] Evaluating Doc.similarity based on empty vectors.\n",
      "  this_score.append(raw_vector.similarity(base_vector))\n"
     ]
    }
   ],
   "source": [
    "matched_df = get_most_similar_title(raw_disc_df, base_vectors, all_base_categories)\n",
    "matched_df = matched_df.merge(cah[['CAH1','CAH3']], on='CAH3',how='left')\n",
    "matched_df.loc[matched_df.score<0.5,'CAH1'] = \"\"\n",
    "matched_df.loc[matched_df.score<0.5,'CAH3'] = \"\""
   ]
  },
  {
   "cell_type": "code",
   "execution_count": 28,
   "metadata": {},
   "outputs": [
    {
     "data": {
      "text/plain": [
       "14677"
      ]
     },
     "execution_count": 28,
     "metadata": {},
     "output_type": "execute_result"
    }
   ],
   "source": [
    "len(matched_df)"
   ]
  },
  {
   "cell_type": "code",
   "execution_count": 29,
   "metadata": {},
   "outputs": [],
   "source": [
    "educ2 = educ.merge(matched_df, on='disc2',how='left')"
   ]
  },
  {
   "cell_type": "code",
   "execution_count": 30,
   "metadata": {
    "scrolled": false
   },
   "outputs": [
    {
     "data": {
      "text/plain": [
       "(CAH17) business and management                            8825\n",
       "                                                           7965\n",
       "(CAH11) computing                                          7917\n",
       "(CAH10) engineering and technology                         5307\n",
       "(CAH15) social sciences                                    2457\n",
       "(CAH07) physical sciences                                  1579\n",
       "(CAH22) education and teaching                             1450\n",
       "(CAH09) mathematical sciences                              1183\n",
       "(CAH19) language and area studies                           767\n",
       "(CAH02) subjects allied to medicine                         709\n",
       "(CAH03) biological and sport sciences                       449\n",
       "(CAH25) design, and creative and performing arts            318\n",
       "(CAH23) combined and general studies                        317\n",
       "(CAH24) media, journalism and communications                235\n",
       "(CAH16) law                                                 232\n",
       "(CAH04) psychology                                          222\n",
       "(CAH20) historical, philosophical and religious studies     202\n",
       "(CAH01) medicine and dentistry                              185\n",
       "(CAH13) architecture, building and planning                 143\n",
       "(CAH26) geography, earth and environmental studies          137\n",
       "(CAH06) agriculture, food and related studies               123\n",
       "(CAH05) veterinary sciences                                  13\n",
       "Name: CAH1, dtype: int64"
      ]
     },
     "execution_count": 30,
     "metadata": {},
     "output_type": "execute_result"
    }
   ],
   "source": [
    "educ2.CAH1.value_counts()"
   ]
  },
  {
   "cell_type": "markdown",
   "metadata": {},
   "source": [
    "**Get maximum level of education**"
   ]
  },
  {
   "cell_type": "code",
   "execution_count": 31,
   "metadata": {},
   "outputs": [],
   "source": [
    "def get_max_degree(degrees):\n",
    "    degrees = list(degrees.values)\n",
    "    if degrees == \"\":\n",
    "        return 'not specified'\n",
    "    elif 'postdoc' in degrees:\n",
    "        return 'postdoc'\n",
    "    elif 'phd' in degrees:\n",
    "        return 'phd'\n",
    "    elif 'master' in degrees:\n",
    "        return 'master'\n",
    "    elif 'bachelor' in degrees:\n",
    "        return 'bachelor'\n",
    "    else:\n",
    "        return 'not university'"
   ]
  },
  {
   "cell_type": "code",
   "execution_count": 32,
   "metadata": {},
   "outputs": [],
   "source": [
    "max_degree = educ.groupby('id')['final_degree'].apply(lambda x: get_max_degree(x)).reset_index().rename(columns={'final_degree':'max_degree'})"
   ]
  },
  {
   "cell_type": "code",
   "execution_count": 33,
   "metadata": {},
   "outputs": [
    {
     "data": {
      "text/plain": [
       "bachelor       16310\n",
       "master         11636\n",
       "certificate    10361\n",
       "phd             2397\n",
       "postdoc           31\n",
       "Name: final_degree, dtype: int64"
      ]
     },
     "execution_count": 33,
     "metadata": {},
     "output_type": "execute_result"
    }
   ],
   "source": [
    "educ.final_degree.value_counts()"
   ]
  },
  {
   "cell_type": "code",
   "execution_count": 34,
   "metadata": {},
   "outputs": [
    {
     "data": {
      "text/plain": [
       "master            8192\n",
       "bachelor          7081\n",
       "phd               2261\n",
       "not university     969\n",
       "postdoc             28\n",
       "Name: max_degree, dtype: int64"
      ]
     },
     "execution_count": 34,
     "metadata": {},
     "output_type": "execute_result"
    }
   ],
   "source": [
    "max_degree.max_degree.value_counts()"
   ]
  },
  {
   "cell_type": "code",
   "execution_count": 36,
   "metadata": {},
   "outputs": [],
   "source": [
    "### Add years spent studying\n",
    "educ2 = educ2.merge(max_degree, on='id',how='left').merge(educ2.groupby('id').duration.sum().reset_index().rename(columns={'duration':\"years_education\"}), on='id',how='left')\n"
   ]
  },
  {
   "cell_type": "code",
   "execution_count": 37,
   "metadata": {},
   "outputs": [],
   "source": [
    "# educ2.drop(['name','debug','degree2','degree3','disc2'],axis=1).to_csv('data/processed/educ_df_3.csv',index=False)"
   ]
  }
 ],
 "metadata": {
  "kernelspec": {
   "display_name": "Python 3",
   "language": "python",
   "name": "python3"
  },
  "language_info": {
   "codemirror_mode": {
    "name": "ipython",
    "version": 3
   },
   "file_extension": ".py",
   "mimetype": "text/x-python",
   "name": "python",
   "nbconvert_exporter": "python",
   "pygments_lexer": "ipython3",
   "version": "3.8.3"
  }
 },
 "nbformat": 4,
 "nbformat_minor": 4
}
